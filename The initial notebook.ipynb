{
 "cells": [
  {
   "cell_type": "code",
   "execution_count": null,
   "id": "65e71724-2c40-43c8-8cef-2d1ae729a3be",
   "metadata": {},
   "outputs": [],
   "source": []
  },
  {
   "cell_type": "markdown",
   "id": "87401638-03a4-47de-8eee-a671bff75fbf",
   "metadata": {},
   "source": [
    "## Table Of Content"
   ]
  },
  {
   "cell_type": "code",
   "execution_count": null,
   "id": "22d43b2f-491b-4d6c-a226-0ab10dee3bb5",
   "metadata": {},
   "outputs": [],
   "source": [
    "# import packages"
   ]
  },
  {
   "cell_type": "code",
   "execution_count": null,
   "id": "e41979f8-a5d4-4de8-bc9d-b037c9e9d93e",
   "metadata": {},
   "outputs": [],
   "source": [
    "# loading data"
   ]
  },
  {
   "cell_type": "code",
   "execution_count": null,
   "id": "11d0401b-bffd-49a3-8f41-acbef1d2095d",
   "metadata": {},
   "outputs": [],
   "source": [
    "#sentiment analysis"
   ]
  },
  {
   "cell_type": "code",
   "execution_count": null,
   "id": "d24c2f60-8230-4ce2-9c28-e274bb5ca62e",
   "metadata": {},
   "outputs": [],
   "source": [
    "#modelling "
   ]
  },
  {
   "cell_type": "code",
   "execution_count": null,
   "id": "53a5f53e-6132-4bf7-8122-73c7e19b17f4",
   "metadata": {},
   "outputs": [],
   "source": [
    "#model performance"
   ]
  },
  {
   "cell_type": "markdown",
   "id": "6aead664-4228-41a3-ba07-0e03bb314b5c",
   "metadata": {},
   "source": [
    "## 1. Import Packages"
   ]
  },
  {
   "cell_type": "code",
   "execution_count": null,
   "id": "1998cf46-6739-441a-beb9-b7fa6c1eab4d",
   "metadata": {},
   "outputs": [],
   "source": [
    "# Libraries for data loading, data manipulation and data visulisation\n",
    "\n",
    "# Libraries for data preparation and model building\n",
    "\n"
   ]
  },
  {
   "cell_type": "markdown",
   "id": "4ecdf794-abc2-4d95-8e97-5ce3e4ef6046",
   "metadata": {},
   "source": [
    "## 2. Loading data"
   ]
  },
  {
   "cell_type": "code",
   "execution_count": null,
   "id": "8b2dcc47-cd26-4dcd-84c7-868351bc5e78",
   "metadata": {},
   "outputs": [],
   "source": [
    "#load the data\n"
   ]
  },
  {
   "cell_type": "code",
   "execution_count": null,
   "id": "0d8d50d5-8aeb-4fcf-bb40-ce9677140167",
   "metadata": {},
   "outputs": [],
   "source": []
  },
  {
   "cell_type": "markdown",
   "id": "3474a895-717a-4d74-ab2b-91175f4c3957",
   "metadata": {},
   "source": [
    "## 3. Sentiment Analysis"
   ]
  },
  {
   "cell_type": "code",
   "execution_count": null,
   "id": "0484ddf5-737c-4176-82f7-898d0b8b31e4",
   "metadata": {},
   "outputs": [],
   "source": [
    "#Tokenization"
   ]
  },
  {
   "cell_type": "code",
   "execution_count": null,
   "id": "4bc57121-6a18-4e4e-85c3-a14c7f576349",
   "metadata": {},
   "outputs": [],
   "source": [
    "#Stop word filtering"
   ]
  },
  {
   "cell_type": "code",
   "execution_count": null,
   "id": "be552ebf-609c-4513-a1fd-091552c00ec5",
   "metadata": {},
   "outputs": [],
   "source": [
    "#Negation handling "
   ]
  },
  {
   "cell_type": "code",
   "execution_count": null,
   "id": "f7ce5db7-92a9-469a-8f30-28868e8f78b9",
   "metadata": {},
   "outputs": [],
   "source": [
    "#Stemming"
   ]
  },
  {
   "cell_type": "code",
   "execution_count": null,
   "id": "e775923f-9232-4792-90db-b9adf76f7e56",
   "metadata": {},
   "outputs": [],
   "source": [
    "#classification"
   ]
  },
  {
   "cell_type": "code",
   "execution_count": null,
   "id": "e7795eda-25cd-4215-aeb1-fb24fabc2bd9",
   "metadata": {},
   "outputs": [],
   "source": [
    "#sentiment class"
   ]
  },
  {
   "cell_type": "markdown",
   "id": "5bd077fb-6b76-40c3-8b32-aadc95c66f9a",
   "metadata": {},
   "source": [
    "## 4. Data Engineering "
   ]
  },
  {
   "cell_type": "code",
   "execution_count": null,
   "id": "c77f3140-369c-4f12-96de-19498a52d0c2",
   "metadata": {},
   "outputs": [],
   "source": [
    "#Deal with missing values/variables\n"
   ]
  },
  {
   "cell_type": "code",
   "execution_count": null,
   "id": "84c128f3-f72b-4c97-9fcb-df2ecaebc322",
   "metadata": {},
   "outputs": [],
   "source": [
    "#"
   ]
  },
  {
   "cell_type": "markdown",
   "id": "1f8d90b3-c44e-4555-bc39-747573da7192",
   "metadata": {},
   "source": [
    "## 5. Modelling"
   ]
  },
  {
   "cell_type": "code",
   "execution_count": null,
   "id": "eebaeb4d-4a9d-4549-a120-98a97f236832",
   "metadata": {},
   "outputs": [],
   "source": [
    "#split the data"
   ]
  },
  {
   "cell_type": "code",
   "execution_count": null,
   "id": "24777059-f610-4e3c-b92c-3ff282be2eb6",
   "metadata": {},
   "outputs": [],
   "source": [
    "#create target variables and features"
   ]
  },
  {
   "cell_type": "code",
   "execution_count": null,
   "id": "77f9aab1-e745-44eb-b6ec-06d0a7a7c80f",
   "metadata": {},
   "outputs": [],
   "source": [
    "#create a base model"
   ]
  },
  {
   "cell_type": "code",
   "execution_count": null,
   "id": "14dc806d-7ca6-4ad9-be8c-3059ce664548",
   "metadata": {},
   "outputs": [],
   "source": [
    "#evaluate more models"
   ]
  },
  {
   "cell_type": "markdown",
   "id": "10628492-1013-44fe-b26d-39d88c812746",
   "metadata": {},
   "source": [
    "## 6. Model Performance"
   ]
  },
  {
   "cell_type": "code",
   "execution_count": null,
   "id": "66754428-3ca1-43d3-afd8-c6138fffb888",
   "metadata": {},
   "outputs": [],
   "source": [
    "#compare the chosen models"
   ]
  },
  {
   "cell_type": "code",
   "execution_count": null,
   "id": "d3deff34-47b9-4c75-b042-df3d13d710cb",
   "metadata": {},
   "outputs": [],
   "source": [
    "#choose the best performing model"
   ]
  },
  {
   "cell_type": "code",
   "execution_count": null,
   "id": "33ae81ad-c7dd-4031-83c4-e0ce5b3ab8db",
   "metadata": {},
   "outputs": [],
   "source": [
    "#explain why you chose that model. "
   ]
  },
  {
   "cell_type": "code",
   "execution_count": null,
   "id": "8ca9108d-8c75-47d8-b926-8421a88de5b0",
   "metadata": {},
   "outputs": [],
   "source": []
  }
 ],
 "metadata": {
  "kernelspec": {
   "display_name": "Python 3 (ipykernel)",
   "language": "python",
   "name": "python3"
  },
  "language_info": {
   "codemirror_mode": {
    "name": "ipython",
    "version": 3
   },
   "file_extension": ".py",
   "mimetype": "text/x-python",
   "name": "python",
   "nbconvert_exporter": "python",
   "pygments_lexer": "ipython3",
   "version": "3.9.7"
  }
 },
 "nbformat": 4,
 "nbformat_minor": 5
}
